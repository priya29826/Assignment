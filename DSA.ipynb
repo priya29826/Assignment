{
  "nbformat": 4,
  "nbformat_minor": 0,
  "metadata": {
    "colab": {
      "provenance": []
    },
    "kernelspec": {
      "name": "python3",
      "display_name": "Python 3"
    },
    "language_info": {
      "name": "python"
    }
  },
  "cells": [
    {
      "cell_type": "markdown",
      "source": [
        "Given a non-negative integer x, return the square root of x rounded down to the nearest integer. The returned integer should be non-negative as well. You must not use any built-in exponent function or operator.\n",
        "\n",
        " Example 1:\n",
        "Input: x = 4 Output: 2 Explanation: The square root of 4 is 2, so we return 2.\n",
        "Example 2:\n",
        "\n",
        "Input: x = 8 Output: 2 Explanation: The square root of 8 is 2.82842..., and since we round it down to the nearest integer, 2 is returned.\n",
        "Constraints:\n",
        "\n",
        "0 <= x <= 2^31 - 1\n"
      ],
      "metadata": {
        "id": "e8zWIAJNdJT5"
      }
    },
    {
      "cell_type": "code",
      "execution_count": 10,
      "metadata": {
        "colab": {
          "base_uri": "https://localhost:8080/"
        },
        "id": "fAIxmlVCdFjF",
        "outputId": "8543b220-ea9d-4424-d866-2b8909dba5bc"
      },
      "outputs": [
        {
          "output_type": "stream",
          "name": "stdout",
          "text": [
            "2\n",
            "2\n",
            "3\n",
            "4\n"
          ]
        }
      ],
      "source": [
        "def sqrt(x):\n",
        "   if x == 0:\n",
        "     return 0\n",
        "\n",
        "   guess = x\n",
        "   while True:\n",
        "     new_guess = (guess + x // guess) // 2\n",
        "     if new_guess >= guess:\n",
        "        return guess\n",
        "     guess = new_guess\n",
        "\n",
        "\n",
        "\n",
        "print(sqrt(4))\n",
        "print(sqrt(8))\n",
        "print(sqrt(9))\n",
        "print(sqrt(16))\n",
        "\n"
      ]
    },
    {
      "cell_type": "markdown",
      "source": [
        "You are given two non-empty linked lists representing two non-negative integers. The digits are stored in reverse order, and each of their nodes contains a single digit. Add the two numbers and return the sum as a linked list.\n",
        "\n",
        "You may assume the two numbers do not contain any leading zero, except the number 0 itself.\n",
        "\n",
        "\n",
        "Example 1:\n",
        "\n",
        "Input: l1 = [2,4,3], l2 = [5,6,4] Output: [7,0,8] Explanation: 342 + 465 = 807.\n",
        "\n",
        "Example 2:\n",
        "\n",
        "Input: l1 = [0], l2 = [0] Output: [0]\n",
        "\n",
        "Example 3:\n",
        "\n",
        "Input: l1 = [9,9,9,9,9,9,9], l2 = [9,9,9,9] Output: [8,9,9,9,0,0,0,1]\n",
        "\n",
        "\n",
        "\n",
        "Constraints:\n",
        "\n",
        "The number of nodes in each linked list is in the range [1, 100].\n",
        "0 <= Node.val <= 9 It is guaranteed that the list represents a number that does not have leading zeros."
      ],
      "metadata": {
        "id": "Mk7mbHUjdOPB"
      }
    },
    {
      "cell_type": "code",
      "source": [
        "class ListNode:\n",
        "    def __init__(self, val=0, next=None):\n",
        "        self.val = val\n",
        "        self.next = next\n",
        "\n",
        "def addTwoNumbers(l1, l2):\n",
        "    dummy = ListNode(0)\n",
        "    current = dummy\n",
        "    carry = 0\n",
        "\n",
        "    while l1 or l2 or carry:\n",
        "        x = l1.val if l1 else 0\n",
        "        y = l2.val if l2 else 0\n",
        "        total = x + y + carry\n",
        "        carry = total // 10\n",
        "        current.next = ListNode(total % 10)\n",
        "        current = current.next\n",
        "        l1 = l1.next if l1 else None\n",
        "        l2 = l2.next if l2 else None\n",
        "\n",
        "    if carry:\n",
        "        current.next = ListNode(carry)\n",
        "\n",
        "    return dummy.next\n",
        "\n",
        "# Example 1\n",
        "l1 = ListNode(2)\n",
        "l1.next = ListNode(4)\n",
        "l1.next.next = ListNode(3)\n",
        "\n",
        "l2 = ListNode(5)\n",
        "l2.next = ListNode(6)\n",
        "l2.next.next = ListNode(4)\n",
        "\n",
        "result = addTwoNumbers(l1, l2)\n",
        "print(result)\n",
        "\n",
        "\n",
        "# Example 2\n",
        "l1 = ListNode(0)\n",
        "l2 = ListNode(0)\n",
        "\n",
        "result = addTwoNumbers(l1, l2)\n",
        "print(result)\n",
        "\n",
        "\n",
        "# Example 3\n",
        "l1 = ListNode(9)\n",
        "l1.next = ListNode(9)\n",
        "l1.next.next = ListNode(9)\n",
        "l1.next.next.next = ListNode(9)\n",
        "l1.next.next.next.next = ListNode(9)\n",
        "l1.next.next.next.next.next = ListNode(9)\n",
        "l1.next.next.next.next.next.next = ListNode(9)\n",
        "\n",
        "l2 = ListNode(9)\n",
        "l2.next = ListNode(9)\n",
        "l2.next.next = ListNode(9)\n",
        "l2.next.next.next = ListNode(9)\n",
        "\n",
        "result = addTwoNumbers(l1, l2)\n",
        "print(result)\n",
        "\n"
      ],
      "metadata": {
        "colab": {
          "base_uri": "https://localhost:8080/"
        },
        "id": "yDn1QGicev-p",
        "outputId": "f463b91e-8011-4109-e400-2a53627b5e54"
      },
      "execution_count": 15,
      "outputs": [
        {
          "output_type": "stream",
          "name": "stdout",
          "text": [
            "<__main__.ListNode object at 0x7fc33ec778e0>\n",
            "<__main__.ListNode object at 0x7fc33ec77a60>\n",
            "<__main__.ListNode object at 0x7fc33ec77e80>\n"
          ]
        }
      ]
    },
    {
      "cell_type": "code",
      "source": [],
      "metadata": {
        "id": "utp7i37oi5k3"
      },
      "execution_count": null,
      "outputs": []
    }
  ]
}