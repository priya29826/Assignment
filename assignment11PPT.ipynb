{
  "nbformat": 4,
  "nbformat_minor": 0,
  "metadata": {
    "colab": {
      "provenance": []
    },
    "kernelspec": {
      "name": "python3",
      "display_name": "Python 3"
    },
    "language_info": {
      "name": "python"
    }
  },
  "cells": [
    {
      "cell_type": "markdown",
      "source": [
        "<aside>\n",
        "💡 **Question 1**\n",
        "\n",
        "Given a non-negative integer `x`, return *the square root of* `x` *rounded down to the nearest integer*. The returned integer should be **non-negative** as well.\n",
        "\n",
        "You **must not use** any built-in exponent function or operator.\n",
        "\n",
        "- For example, do not use `pow(x, 0.5)` in c++ or `x ** 0.5` in python.\n",
        "\n",
        "**Example 1:**\n",
        "\n",
        "```\n",
        "Input: x = 4\n",
        "Output: 2\n",
        "Explanation: The square root of 4 is 2, so we return 2.\n"
      ],
      "metadata": {
        "id": "Bo9tdtZtiFpl"
      }
    },
    {
      "cell_type": "code",
      "execution_count": 6,
      "metadata": {
        "id": "aKBesfyTX028",
        "colab": {
          "base_uri": "https://localhost:8080/"
        },
        "outputId": "84f87152-a36f-4558-92d9-863cde173ca3"
      },
      "outputs": [
        {
          "output_type": "stream",
          "name": "stdout",
          "text": [
            "2\n",
            "2\n"
          ]
        }
      ],
      "source": [
        "def mySqrt(x):\n",
        "  if x==0:\n",
        "    return 0\n",
        "\n",
        "  left=0\n",
        "  right=x\n",
        "\n",
        "  while left<=right:\n",
        "    mid=(left+right)//2\n",
        "    if mid*mid>x:\n",
        "      right=mid-1\n",
        "    else:\n",
        "      left=mid+1\n",
        "  return right\n",
        "\n",
        "x1=4\n",
        "result1 = mySqrt(x1)\n",
        "print(result1)\n",
        "\n",
        "x2=8\n",
        "result2 = mySqrt(x2)\n",
        "print(result2)\n"
      ]
    },
    {
      "cell_type": "markdown",
      "source": [
        "<aside>\n",
        "💡 **Question 2**\n",
        "\n",
        "A peak element is an element that is strictly greater than its neighbors.\n",
        "\n",
        "Given a **0-indexed** integer array `nums`, find a peak element, and return its index. If the array contains multiple peaks, return the index to **any of the peaks**.\n",
        "\n",
        "You may imagine that `nums[-1] = nums[n] = -∞`. In other words, an element is always considered to be strictly greater than a neighbor that is outside the array.\n",
        "\n",
        "You must write an algorithm that runs in `O(log n)` time.\n",
        "\n"
      ],
      "metadata": {
        "id": "e9NoiOpgnIxX"
      }
    },
    {
      "cell_type": "code",
      "source": [
        "def findPeakElement(nums):\n",
        "  left, right=0, len(nums)-1\n",
        "\n",
        "  while left<right:\n",
        "    mid=(left+right)//2\n",
        "\n",
        "    if nums[mid]<nums[mid+1]:\n",
        "      left=mid+1\n",
        "    else:\n",
        "      right=mid\n",
        "\n",
        "  return left\n",
        "\n",
        "nums=[1,2,3,1]\n",
        "result= findPeakElement(nums)\n",
        "print(result)\n",
        "\n",
        "nums = [1,2,1,3,5,6,4]\n",
        "result= findPeakElement(nums)\n",
        "print(result)"
      ],
      "metadata": {
        "colab": {
          "base_uri": "https://localhost:8080/"
        },
        "id": "4FBasIXBjktx",
        "outputId": "4fd39c30-c34e-4010-cadf-187553029c82"
      },
      "execution_count": 9,
      "outputs": [
        {
          "output_type": "stream",
          "name": "stdout",
          "text": [
            "2\n",
            "5\n"
          ]
        }
      ]
    },
    {
      "cell_type": "markdown",
      "source": [
        "<aside>\n",
        "💡 **Question 3**\n",
        "\n",
        "****\n",
        "\n",
        "Given an array `nums` containing `n` distinct numbers in the range `[0, n]`, return *the only number in the range that is missing from the array.*\n",
        "\n",
        "**Example 1:**\n",
        "```\n",
        "Input: nums = [3,0,1]\n",
        "Output: 2\n",
        "Explanation: n = 3 since there are 3 numbers, so all numbers are in the range [0,3]. 2 is the missing number in the range since it does not appear in nums.\n"
      ],
      "metadata": {
        "id": "dYbqfa_-qiKY"
      }
    },
    {
      "cell_type": "code",
      "source": [
        "def findMissingNumber(nums):\n",
        "  n=len(nums)\n",
        "  expectedSum=n*(n+1)//2\n",
        "  left,right=0,len(nums)-1\n",
        "\n",
        "  while left<=right:\n",
        "    mid=left+(right-left)//2\n",
        "    currentSum=sum(nums[:mid+1])\n",
        "\n",
        "    if currentSum==expectedSum:\n",
        "      left=mid+1\n",
        "    else:\n",
        "      right=mid-1\n",
        "\n",
        "  return left\n",
        "\n",
        "nums= [3,0,1]\n",
        "findMissingNumber(nums)"
      ],
      "metadata": {
        "colab": {
          "base_uri": "https://localhost:8080/"
        },
        "id": "POFPArAMpcE8",
        "outputId": "cf61db27-f01e-4b0d-9588-749131c607cd"
      },
      "execution_count": 13,
      "outputs": [
        {
          "output_type": "execute_result",
          "data": {
            "text/plain": [
              "0"
            ]
          },
          "metadata": {},
          "execution_count": 13
        }
      ]
    },
    {
      "cell_type": "markdown",
      "source": [
        "<aside>\n",
        "💡 **Question 4**\n",
        "\n",
        "Given an array of integers `nums` containing `n + 1` integers where each integer is in the range `[1, n]` inclusive.\n",
        "\n",
        "There is only **one repeated number** in `nums`, return *this repeated number*.\n",
        "\n",
        "You must solve the problem **without** modifying the array `nums` and uses only constant extra space.\n",
        "\n",
        "**Example 1:**\n",
        "\n",
        "```\n",
        "\n",
        "Input: nums = [1,3,4,2,2]\n",
        "Output: 2\n"
      ],
      "metadata": {
        "id": "qCiZZiOaxHcN"
      }
    },
    {
      "cell_type": "code",
      "source": [
        "def findDuplicate(nums):\n",
        "  low=1\n",
        "  high=len(nums)-1\n",
        "\n",
        "  while low<=high:\n",
        "    mid=(low+high)//2\n",
        "    count=0\n",
        "\n",
        "    for num in nums:\n",
        "      if num<=mid:\n",
        "        count+=1\n",
        "\n",
        "    if count>mid:\n",
        "      high=mid-1\n",
        "    else:\n",
        "      low=mid+1\n",
        "  return low\n",
        "\n",
        "nums=[1,3,4,2,2]\n",
        "print(findDuplicate(nums))\n",
        "\n",
        "nums = [3,1,3,4,2]\n",
        "print(findDuplicate(nums))"
      ],
      "metadata": {
        "colab": {
          "base_uri": "https://localhost:8080/"
        },
        "id": "hUHqu0Jwv4eD",
        "outputId": "bcd23bfd-9851-4c4f-b9bf-0eb7de20fbf3"
      },
      "execution_count": 15,
      "outputs": [
        {
          "output_type": "stream",
          "name": "stdout",
          "text": [
            "2\n",
            "3\n"
          ]
        }
      ]
    },
    {
      "cell_type": "markdown",
      "source": [
        "<aside>\n",
        "💡 **Question 5**\n",
        "\n",
        "Given two integer arrays `nums1` and `nums2`, return *an array of their intersection*. Each element in the result must be **unique** and you may return the result in **any order**.\n",
        "\n",
        "**Example 1:**\n",
        "\n",
        "```\n",
        "\n",
        "Input: nums1 = [1,2,2,1], nums2 = [2,2]\n",
        "Output: [2]\n"
      ],
      "metadata": {
        "id": "ybVCkErAzS3A"
      }
    },
    {
      "cell_type": "code",
      "source": [
        "def intersection(nums1,nums2):\n",
        "  nums1.sort()\n",
        "  nums2.sort()\n",
        "\n",
        "  result=[]\n",
        "\n",
        "  for num in nums1:\n",
        "    left,right=0,len(nums)-1\n",
        "\n",
        "    while left<=right:\n",
        "      mid=(left+right)//2\n",
        "\n",
        "      if nums[mid]==num:\n",
        "        if num not in result:\n",
        "         result.append(num)\n",
        "        break\n",
        "      elif nums2[mid]<num:\n",
        "        left=mid+1\n",
        "      else:\n",
        "        right=mid-1\n",
        "\n",
        "  return result\n",
        "\n",
        "nums1=[1,2,2,1]\n",
        "nums2=[2,2]\n",
        "intersection(nums1,nums2)\n",
        "\n"
      ],
      "metadata": {
        "colab": {
          "base_uri": "https://localhost:8080/",
          "height": 339
        },
        "id": "5J8bFKU_ym01",
        "outputId": "30fb3bc3-7aad-4140-87ab-0039c5b81d1a"
      },
      "execution_count": 19,
      "outputs": [
        {
          "output_type": "error",
          "ename": "IndexError",
          "evalue": "ignored",
          "traceback": [
            "\u001b[0;31m---------------------------------------------------------------------------\u001b[0m",
            "\u001b[0;31mIndexError\u001b[0m                                Traceback (most recent call last)",
            "\u001b[0;32m<ipython-input-19-ba1cadbb9fb7>\u001b[0m in \u001b[0;36m<cell line: 26>\u001b[0;34m()\u001b[0m\n\u001b[1;32m     24\u001b[0m \u001b[0mnums1\u001b[0m\u001b[0;34m=\u001b[0m\u001b[0;34m[\u001b[0m\u001b[0;36m1\u001b[0m\u001b[0;34m,\u001b[0m\u001b[0;36m2\u001b[0m\u001b[0;34m,\u001b[0m\u001b[0;36m2\u001b[0m\u001b[0;34m,\u001b[0m\u001b[0;36m1\u001b[0m\u001b[0;34m]\u001b[0m\u001b[0;34m\u001b[0m\u001b[0;34m\u001b[0m\u001b[0m\n\u001b[1;32m     25\u001b[0m \u001b[0mnums2\u001b[0m\u001b[0;34m=\u001b[0m\u001b[0;34m[\u001b[0m\u001b[0;36m2\u001b[0m\u001b[0;34m,\u001b[0m\u001b[0;36m2\u001b[0m\u001b[0;34m]\u001b[0m\u001b[0;34m\u001b[0m\u001b[0;34m\u001b[0m\u001b[0m\n\u001b[0;32m---> 26\u001b[0;31m \u001b[0mintersection\u001b[0m\u001b[0;34m(\u001b[0m\u001b[0mnums1\u001b[0m\u001b[0;34m,\u001b[0m\u001b[0mnums2\u001b[0m\u001b[0;34m)\u001b[0m\u001b[0;34m\u001b[0m\u001b[0;34m\u001b[0m\u001b[0m\n\u001b[0m\u001b[1;32m     27\u001b[0m \u001b[0;34m\u001b[0m\u001b[0m\n",
            "\u001b[0;32m<ipython-input-19-ba1cadbb9fb7>\u001b[0m in \u001b[0;36mintersection\u001b[0;34m(nums1, nums2)\u001b[0m\n\u001b[1;32m     15\u001b[0m          \u001b[0mresult\u001b[0m\u001b[0;34m.\u001b[0m\u001b[0mappend\u001b[0m\u001b[0;34m(\u001b[0m\u001b[0mnum\u001b[0m\u001b[0;34m)\u001b[0m\u001b[0;34m\u001b[0m\u001b[0;34m\u001b[0m\u001b[0m\n\u001b[1;32m     16\u001b[0m         \u001b[0;32mbreak\u001b[0m\u001b[0;34m\u001b[0m\u001b[0;34m\u001b[0m\u001b[0m\n\u001b[0;32m---> 17\u001b[0;31m       \u001b[0;32melif\u001b[0m \u001b[0mnums2\u001b[0m\u001b[0;34m[\u001b[0m\u001b[0mmid\u001b[0m\u001b[0;34m]\u001b[0m\u001b[0;34m<\u001b[0m\u001b[0mnum\u001b[0m\u001b[0;34m:\u001b[0m\u001b[0;34m\u001b[0m\u001b[0;34m\u001b[0m\u001b[0m\n\u001b[0m\u001b[1;32m     18\u001b[0m         \u001b[0mleft\u001b[0m\u001b[0;34m=\u001b[0m\u001b[0mmid\u001b[0m\u001b[0;34m+\u001b[0m\u001b[0;36m1\u001b[0m\u001b[0;34m\u001b[0m\u001b[0;34m\u001b[0m\u001b[0m\n\u001b[1;32m     19\u001b[0m       \u001b[0;32melse\u001b[0m\u001b[0;34m:\u001b[0m\u001b[0;34m\u001b[0m\u001b[0;34m\u001b[0m\u001b[0m\n",
            "\u001b[0;31mIndexError\u001b[0m: list index out of range"
          ]
        }
      ]
    },
    {
      "cell_type": "markdown",
      "source": [
        "<aside>\n",
        "💡 **Question 6**\n",
        "\n",
        "Suppose an array of length `n` sorted in ascending order is **rotated** between `1` and `n` times. For example, the array `nums = [0,1,2,4,5,6,7]` might become:\n",
        "\n",
        "- `[4,5,6,7,0,1,2]` if it was rotated `4` times.\n",
        "- `[0,1,2,4,5,6,7]` if it was rotated `7` times.\n",
        "\n",
        "Notice that **rotating** an array `[a[0], a[1], a[2], ..., a[n-1]]` 1 time results in the array `[a[n-1], a[0], a[1], a[2], ..., a[n-2]]`.\n",
        "\n",
        "Given the sorted rotated array `nums` of **unique** elements, return *the minimum element of this array*.\n",
        "\n",
        "You must write an algorithm that runs in `O(log n) time.`\n",
        "\n",
        "Example 1:\n",
        "```\n",
        "Input: nums = [3,4,5,1,2]\n",
        "Output: 1\n",
        "Explanation: The original array was [1,2,3,4,5] rotated 3 times.\n"
      ],
      "metadata": {
        "id": "unQaxPc-_LHm"
      }
    },
    {
      "cell_type": "code",
      "source": [
        "def findMin(nums):\n",
        "    left = 0\n",
        "    right = len(nums) - 1\n",
        "\n",
        "    while left < right:\n",
        "        if nums[left] < nums[right]:\n",
        "            return nums[left]\n",
        "\n",
        "        mid = left + (right - left) // 2\n",
        "\n",
        "        if nums[mid] < nums[mid - 1] and nums[mid] < nums[mid + 1]:\n",
        "            return nums[mid]\n",
        "        elif nums[mid] >= nums[left]:\n",
        "            left = mid + 1\n",
        "        else:\n",
        "            right = mid - 1\n",
        "\n",
        "    return nums[left]\n",
        "\n",
        "nums = [3, 4, 5, 1, 2]\n",
        "print(findMin(nums))\n",
        "\n"
      ],
      "metadata": {
        "colab": {
          "base_uri": "https://localhost:8080/"
        },
        "id": "m0fufjeY_VSP",
        "outputId": "c50cfebc-2bf2-4a92-c332-af6ca56ce482"
      },
      "execution_count": 28,
      "outputs": [
        {
          "output_type": "stream",
          "name": "stdout",
          "text": [
            "1\n"
          ]
        }
      ]
    },
    {
      "cell_type": "markdown",
      "source": [
        "<aside>\n",
        "💡 **Question 7**\n",
        "\n",
        "Given an array of integers `nums` sorted in non-decreasing order, find the starting and ending position of a given `target` value.\n",
        "\n",
        "If `target` is not found in the array, return `[-1, -1]`.\n",
        "\n",
        "You must write an algorithm with `O(log n)` runtime complexity.\n",
        "\n",
        "Example 1:\n",
        "```\n",
        "\n",
        "Input: nums = [5,7,7,8,8,10], target = 8\n",
        "Output: [3,4]\n"
      ],
      "metadata": {
        "id": "WruD-tu5-ZGw"
      }
    },
    {
      "cell_type": "code",
      "source": [
        "def searchRange(nums, target):\n",
        "    start = -1\n",
        "    end = -1\n",
        "\n",
        "\n",
        "    left = 0\n",
        "    right = len(nums) - 1\n",
        "\n",
        "    while left <= right:\n",
        "        mid = (left + right) // 2\n",
        "        if nums[mid] >= target:\n",
        "            end = mid\n",
        "            right = mid - 1\n",
        "        else:\n",
        "            left = mid + 1\n",
        "\n",
        "\n",
        "    if end == -1:\n",
        "        return [-1, -1]\n",
        "\n",
        "    left = 0\n",
        "    right = len(nums) - 1\n",
        "\n",
        "    while left <= right:\n",
        "        mid = (left + right) // 2\n",
        "        if nums[mid] > target:\n",
        "            right = mid - 1\n",
        "        else:\n",
        "            start = mid\n",
        "            left = mid + 1\n",
        "\n",
        "    return [start, end]\n",
        "\n",
        "nums = [5,7,7,8,8,10]\n",
        "target = 8\n",
        "searchRange(nums, target)\n"
      ],
      "metadata": {
        "colab": {
          "base_uri": "https://localhost:8080/"
        },
        "id": "HOtKceeh-DsM",
        "outputId": "6f5072a3-a348-4996-9e0d-a36b29733a88"
      },
      "execution_count": 27,
      "outputs": [
        {
          "output_type": "execute_result",
          "data": {
            "text/plain": [
              "[4, 3]"
            ]
          },
          "metadata": {},
          "execution_count": 27
        }
      ]
    },
    {
      "cell_type": "markdown",
      "source": [
        "<aside>\n",
        "💡 **Question 8**\n",
        "\n",
        "Given two integer arrays `nums1` and `nums2`, return *an array of their intersection*. Each element in the result must appear as many times as it shows in both arrays and you may return the result in **any order**.\n",
        "\n",
        "Example 1:\n",
        "\n",
        "```\n",
        "Input: nums1 = [1,2,2,1], nums2 = [2,2]\n",
        "Output: [2,2]\n"
      ],
      "metadata": {
        "id": "NYNqs6wF1saT"
      }
    },
    {
      "cell_type": "code",
      "source": [
        "def binary_search(nums, target):\n",
        "    left, right = 0, len(nums) - 1\n",
        "    while left <= right:\n",
        "        mid = (left + right) // 2\n",
        "        if nums[mid] == target:\n",
        "            return mid\n",
        "        elif nums[mid] < target:\n",
        "            left = mid + 1\n",
        "        else:\n",
        "            right = mid - 1\n",
        "    return -1\n",
        "\n",
        "def intersect(nums1, nums2):\n",
        "    nums1.sort()\n",
        "    nums2.sort()\n",
        "\n",
        "    intersection = []\n",
        "    for num in nums1:\n",
        "        index = binary_search(nums2, num)\n",
        "        if index != -1:\n",
        "            intersection.append(num)\n",
        "            nums2.pop(index)\n",
        "\n",
        "    return intersection\n",
        "\n",
        "\n",
        "nums1 = [1, 2, 2, 1]\n",
        "nums2 = [2, 2]\n",
        "intersection = intersect(nums1, nums2)\n",
        "print(intersection)\n"
      ],
      "metadata": {
        "colab": {
          "base_uri": "https://localhost:8080/"
        },
        "id": "GQSBpLTb77rw",
        "outputId": "2126c657-3d53-4e04-cde0-2cc03eb6f63e"
      },
      "execution_count": 26,
      "outputs": [
        {
          "output_type": "stream",
          "name": "stdout",
          "text": [
            "[2, 2]\n"
          ]
        }
      ]
    },
    {
      "cell_type": "code",
      "source": [],
      "metadata": {
        "id": "dPOG_Dfa8OiL"
      },
      "execution_count": null,
      "outputs": []
    }
  ]
}