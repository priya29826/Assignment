{
  "nbformat": 4,
  "nbformat_minor": 0,
  "metadata": {
    "colab": {
      "provenance": []
    },
    "kernelspec": {
      "name": "python3",
      "display_name": "Python 3"
    },
    "language_info": {
      "name": "python"
    }
  },
  "cells": [
    {
      "cell_type": "markdown",
      "source": [
        "1. In the below elements which of them are values or an expression? eg:- values can be integer or string and expressions will be mathematical operators.\n",
        "\n",
        "##Ans:\n",
        "\n",
        " Elements | Expression/ Value | Operator/ Data type\n",
        " - | - | -\n",
        " *  | Expression | Multiplication Operator\n",
        " 'hello' | Value | String\n",
        " -87.8 | Value | Float\n",
        " - | Expression | Substraction Operator\n",
        " / | Expression | Division Operator\n",
        " +\t| Expression | Addition Operator\n",
        "\n"
      ],
      "metadata": {
        "id": "HCI5dfExt_YS"
      }
    },
    {
      "cell_type": "markdown",
      "source": [
        "2. What is the difference between string and variable?\n",
        "\n",
        "##Ans:\n",
        "a)A string is a literal text string, i.e. 'Hello'. whereas A variable is something that stores data - it can store a string, int, float, class, etc.\n",
        "\n",
        "b)All strings are variables, but not all variables are strings.\n",
        "\n",
        "c)Variables in programs are references to values that have types. String is simply one of the handful of types that Python uses along with various number types, collection types (list, string , tuple, dict, and set), objects and a few more.\n",
        "\n",
        "d)A variable can hold a string, but a string can't hold a variable.\n",
        "\n",
        "e)A variable is basically the name of the location in the primary memory of your computer. This can be chosen by you. A variable can store everything from strings to numbers. whereas A string is the values inside the quotes assigned to a string.\n",
        "\n",
        "f)In python anything you assign to a variable using quotes (single or double) will be considered as a string. Thus, a string is one of several types of a variable. a = \"10\" b = \"20\" print(a+b) #prints 1020 a = 10 b = 20 print(a+b) #prints 30 So, in the above example, (a+b) returns 1020 in the first case (string concatenation of 10 and 20), whereas in the second case, it returns 30 since it interprets a and b as integers at run-time.\n",
        "\n",
        "g)The string is 'spam'; the variable is spam. Strings always start and end with quotes."
      ],
      "metadata": {
        "id": "iUUzlJL0ztM2"
      }
    },
    {
      "cell_type": "markdown",
      "source": [
        "3. Describe three different data types.\n",
        "\n",
        "##Ans:\n",
        "\n",
        "Three fundamental Data types in python are int, float, complex.\n",
        "\n",
        "int data type: We can use int data type to represent whole numbers (integral values)\n",
        "\n",
        "float data type: We can use float data type to represent floating point values (decimal values)\n",
        "\n",
        "complex data type: Complex number is represented by complex class. It is specified as (real part) + (imaginary part)j."
      ],
      "metadata": {
        "id": "LtdssVrx1xD-"
      }
    },
    {
      "cell_type": "code",
      "source": [
        "# Example for int data type\n",
        "int_num=4567\n",
        "print(int_num, type(int_num))\n",
        "# Example for float data type\n",
        "float_num=1.2e3\n",
        "print(float_num, type(float_num))\n",
        "# Example for Complex data type\n",
        "complex_num=10+1.5j\n",
        "print(complex_num, type(complex_num))"
      ],
      "metadata": {
        "id": "Aa2Wc71LxFqY",
        "colab": {
          "base_uri": "https://localhost:8080/"
        },
        "outputId": "77aa2542-a751-4df6-8bab-cbdf23309c4f"
      },
      "execution_count": 2,
      "outputs": [
        {
          "output_type": "stream",
          "name": "stdout",
          "text": [
            "4567 <class 'int'>\n",
            "1200.0 <class 'float'>\n",
            "(10+1.5j) <class 'complex'>\n"
          ]
        }
      ]
    },
    {
      "cell_type": "markdown",
      "source": [
        "4. What is an expression made up of? What do all expressions do?\n",
        "\n",
        "##Ans:\n",
        "\n",
        "An expression is a combination of values, variables, operators, and calls to functions. Expressions need to be evaluated. If we ask Python to print an expression, the interpreter evaluates the expression and displays the result."
      ],
      "metadata": {
        "id": "-m_TCL-Q30LN"
      }
    },
    {
      "cell_type": "markdown",
      "source": [
        "5. This assignment statements, like spam = 10. What is the difference between an\n",
        "expression and a statement?\n",
        "\n",
        "##Ans\n",
        "\n",
        " An expression is a combination of values, variables, and operators.When we type an expression at the prompt, the interpreter evaluates it, which means that it finds the value of the expression.\n",
        "\n",
        "eg: 4*5+20-40 is an example of a statement\n",
        "\n",
        "A statement is a unit of code that has an effect, like creating a variable or displaying a value.When we type a statement, the interpreter executes it, which means that it does whatever the statement says. In general, statements don’t have values.\n",
        "\n",
        "eg: variable declaration and assignment are statements because they do not return a value"
      ],
      "metadata": {
        "id": "PAJYRzKK4Khv"
      }
    },
    {
      "cell_type": "code",
      "source": [
        "#Example:\n",
        "4*5+20-40 # Is a Expression\n",
        "courseName = 'INeuron FullStack DataScience' # Is a Statement\n",
        "print(\"Hello World !\") # Is a Expression Statement"
      ],
      "metadata": {
        "colab": {
          "base_uri": "https://localhost:8080/"
        },
        "id": "DhSO4JZp45aR",
        "outputId": "526f8abf-40b3-4737-9a44-0f8f6d8531ca"
      },
      "execution_count": 3,
      "outputs": [
        {
          "output_type": "stream",
          "name": "stdout",
          "text": [
            "Hello World !\n"
          ]
        }
      ]
    },
    {
      "cell_type": "markdown",
      "source": [
        "6. After running the following code, what does the variable bacon contain?\n",
        "bacon = 22\n",
        "bacon + 1\n",
        "\n",
        "##Ans\n",
        "\n",
        "\n",
        "The variable bacon is set to 22 .The expression bacon + 1 does not reassign the value in bacon (that would the case if the expression is like bacon = bacon + 1 instead of bacon + 1)\n"
      ],
      "metadata": {
        "id": "HfApmc1e44Zr"
      }
    },
    {
      "cell_type": "code",
      "source": [
        "# Example Case#1\n",
        "bacon=22\n",
        "bacon+1\n",
        "print(bacon)"
      ],
      "metadata": {
        "colab": {
          "base_uri": "https://localhost:8080/"
        },
        "id": "NxH6DqTf3qA7",
        "outputId": "ea7cf120-59ea-4e5f-a57c-94a130192d7c"
      },
      "execution_count": 4,
      "outputs": [
        {
          "output_type": "stream",
          "name": "stdout",
          "text": [
            "22\n"
          ]
        }
      ]
    },
    {
      "cell_type": "code",
      "source": [
        "#Example Case#2\n",
        "bacon=22\n",
        "bacon=bacon+1\n",
        "print(bacon)"
      ],
      "metadata": {
        "colab": {
          "base_uri": "https://localhost:8080/"
        },
        "id": "TePpG-Se5S0Q",
        "outputId": "0037c658-29ec-4ff8-d215-9a9eb05a3fbd"
      },
      "execution_count": 5,
      "outputs": [
        {
          "output_type": "stream",
          "name": "stdout",
          "text": [
            "23\n"
          ]
        }
      ]
    },
    {
      "cell_type": "markdown",
      "source": [
        "7. What should the values of the following two terms be?\n",
        "\n",
        "\n",
        "&#39;spam&#39; + &#39;spamspam&#39;\n",
        "&#39;\n",
        "\n",
        "\n",
        "spam&#39; * 3\n",
        "\n",
        "##Ans\n",
        "\n",
        "ns: Both expressions evaluate to the string 'spamspamspam' Where as the first expression follows String Concatentation and the second expression follows String Multiplication"
      ],
      "metadata": {
        "id": "xS658Fwf5ceV"
      }
    },
    {
      "cell_type": "code",
      "source": [
        "print('spam'+'spamspam') # string concatenation\n",
        "print('spam'*3) # string multiplication"
      ],
      "metadata": {
        "colab": {
          "base_uri": "https://localhost:8080/"
        },
        "id": "iCiPCi0i6KNp",
        "outputId": "9bd0afe4-7fd7-457a-e179-f323600650ee"
      },
      "execution_count": 6,
      "outputs": [
        {
          "output_type": "stream",
          "name": "stdout",
          "text": [
            "spamspamspam\n",
            "spamspamspam\n"
          ]
        }
      ]
    },
    {
      "cell_type": "markdown",
      "source": [
        "8. Why is eggs a valid variable name while 100 is invalid?\n",
        "\n",
        "##Ans\n",
        "\n",
        " As per python,Variable names cannot begin with a number. The python rules for naming a variable are :-\n",
        "\n",
        "1.Variable name must start with a letter or the underscore character.\n",
        "\n",
        "2.Variable name cannot start with a number.\n",
        "\n",
        "3.Variable name can only contain alpha-numeric characters and underscores (A-z, 0-9, & _ ).\n",
        "\n",
        "4.Variable names are case-sensitive (name, INEURON and ineuron are three different variables).\n",
        "\n",
        "5.The reserved words(keywords) cannot be used naming the variable.\n",
        "\n",
        "\n"
      ],
      "metadata": {
        "id": "iV9yHwOo6Qq-"
      }
    },
    {
      "cell_type": "code",
      "source": [
        "egg='Ineuron' # Valid variable Initilization\n",
        "100='hello' # Invalid Variable Initilization\n",
        "print(egg) #prints the value of egg ie Ineuron\n",
        "print(100) # Raises a Syntax Error as 100 is not a valid variable name"
      ],
      "metadata": {
        "colab": {
          "base_uri": "https://localhost:8080/",
          "height": 106
        },
        "id": "frlV1M5e9XB8",
        "outputId": "3d5fca75-d0c0-44ac-96aa-b57aa98fe28c"
      },
      "execution_count": 9,
      "outputs": [
        {
          "output_type": "error",
          "ename": "SyntaxError",
          "evalue": "cannot assign to literal here. Maybe you meant '==' instead of '='? (<ipython-input-9-dbb106b946bd>, line 2)",
          "traceback": [
            "\u001b[0;36m  File \u001b[0;32m\"<ipython-input-9-dbb106b946bd>\"\u001b[0;36m, line \u001b[0;32m2\u001b[0m\n\u001b[0;31m    100='hello' # Invalid Variable Initilization\u001b[0m\n\u001b[0m    ^\u001b[0m\n\u001b[0;31mSyntaxError\u001b[0m\u001b[0;31m:\u001b[0m cannot assign to literal here. Maybe you meant '==' instead of '='?\n"
          ]
        }
      ]
    },
    {
      "cell_type": "markdown",
      "source": [
        "9. What three functions can be used to get the integer, floating-point number, or string\n",
        "version of a value?\n",
        "\n",
        "##Ans\n",
        "\n",
        " The int(),float(),and str() functions will evaluate to the integer,floating-point number,string version of the value passed to them."
      ],
      "metadata": {
        "id": "K1O8tQSu72WI"
      }
    },
    {
      "cell_type": "code",
      "source": [
        "# Examples:\n",
        "print('int(10.0) -> ',int(10.0)) # int() function converts given input to int\n",
        "print('float(10) -> ',float(10)) # float() function converts given input to float\n",
        "print('str(10) -> ',str(10)) # str() function converts given input to string"
      ],
      "metadata": {
        "colab": {
          "base_uri": "https://localhost:8080/"
        },
        "id": "5xu0E8Hg8O22",
        "outputId": "a6bc72ac-f157-4942-a3a1-c162d5ae751e"
      },
      "execution_count": 7,
      "outputs": [
        {
          "output_type": "stream",
          "name": "stdout",
          "text": [
            "int(10.0) ->  10\n",
            "float(10) ->  10.0\n",
            "str(10) ->  10\n"
          ]
        }
      ]
    },
    {
      "cell_type": "markdown",
      "source": [
        "10. Why does this expression cause an error? How can you fix it?\n",
        "&#39;       \n",
        "I have eaten &#39; + 99 + &#39; burritos.&#39;\n",
        "\n",
        "##Ans\n",
        "\n",
        "This cause of error is 99.because 99 is not a string. 99 must be typecasted to a string to fix this error. the correct way is:\n",
        "\n",
        "Input: 'I have eaten ' + str(99) + 'burritos.'\n",
        "\n",
        "Output: 'I have eaten 99 burritos.'"
      ],
      "metadata": {
        "id": "uFEAxNzF72Hq"
      }
    },
    {
      "cell_type": "code",
      "source": [
        "print('I have eaten '+str(99)+' burritos')"
      ],
      "metadata": {
        "colab": {
          "base_uri": "https://localhost:8080/"
        },
        "id": "t6iyjT6i6Nli",
        "outputId": "898b79de-0f8e-4308-f5ca-aad3e4caa540"
      },
      "execution_count": 8,
      "outputs": [
        {
          "output_type": "stream",
          "name": "stdout",
          "text": [
            "I have eaten 99 burritos\n"
          ]
        }
      ]
    },
    {
      "cell_type": "code",
      "source": [],
      "metadata": {
        "id": "1Rf_7Wc-8-gi"
      },
      "execution_count": null,
      "outputs": []
    }
  ]
}