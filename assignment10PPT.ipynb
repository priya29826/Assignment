{
  "nbformat": 4,
  "nbformat_minor": 0,
  "metadata": {
    "colab": {
      "provenance": []
    },
    "kernelspec": {
      "name": "python3",
      "display_name": "Python 3"
    },
    "language_info": {
      "name": "python"
    }
  },
  "cells": [
    {
      "cell_type": "markdown",
      "source": [
        "<aside>\n",
        "💡 **Question 1**\n",
        "\n",
        "Given an integer `n`, return *`true` if it is a power of three. Otherwise, return `false`*.\n",
        "\n",
        "An integer `n` is a power of three, if there exists an integer `x` such that `n == 3x`.\n",
        "\n",
        "</aside>"
      ],
      "metadata": {
        "id": "PeOT-60oU9Vf"
      }
    },
    {
      "cell_type": "code",
      "execution_count": 10,
      "metadata": {
        "id": "9wLdCRwzmNTw"
      },
      "outputs": [],
      "source": [
        "def is_power_of_three(n):\n",
        "  if n<=0:\n",
        "    return False\n",
        "  elif n==0:\n",
        "    return True\n",
        "  elif n%3==0:\n",
        "    is_power_of_three(n//3)\n",
        "    return True\n",
        "  else:\n",
        "    return False\n",
        "\n",
        "\n",
        "\n"
      ]
    },
    {
      "cell_type": "code",
      "source": [
        "n=27\n",
        "print(is_power_of_three(27))"
      ],
      "metadata": {
        "colab": {
          "base_uri": "https://localhost:8080/"
        },
        "id": "YfKXDRpC5npx",
        "outputId": "5169de6f-11ae-4b11-f56f-ec25fd4ab263"
      },
      "execution_count": 11,
      "outputs": [
        {
          "output_type": "stream",
          "name": "stdout",
          "text": [
            "True\n"
          ]
        }
      ]
    },
    {
      "cell_type": "markdown",
      "source": [
        "<aside>\n",
        "💡 **Question 2**\n",
        "\n",
        "You have a list `arr` of all integers in the range `[1, n]` sorted in a strictly increasing order. Apply the following algorithm on `arr`:\n",
        "\n",
        "- Starting from left to right, remove the first number and every other number afterward until you reach the end of the list.\n",
        "- Repeat the previous step again, but this time from right to left, remove the rightmost number and every other number from the remaining numbers.\n",
        "- Keep repeating the steps again, alternating left to right and right to left, until a single number remains.\n",
        "\n",
        "Given the integer `n`, return *the last number that remains in* `arr`.\n",
        "\n",
        "</aside>"
      ],
      "metadata": {
        "id": "4TkvPxxPYnfC"
      }
    },
    {
      "cell_type": "code",
      "source": [
        "def lastRemainingRecursive(n):\n",
        "  if n == 1:\n",
        "     return 1\n",
        "  if n % 2 == 1:\n",
        "      return lastRemainingRecursive(n - 1)\n",
        "  return 2 * (n // 2 + 1 - lastRemainingRecursive(n // 2))\n",
        "\n",
        "n = 9\n",
        "print(lastRemainingRecursive(n))\n",
        "\n",
        "n=1\n",
        "print(lastRemainingRecursive(n))\n"
      ],
      "metadata": {
        "colab": {
          "base_uri": "https://localhost:8080/"
        },
        "id": "wPDrdoXeYrYK",
        "outputId": "1d625108-86c9-42d7-d8e0-a76fb0a72c07"
      },
      "execution_count": 50,
      "outputs": [
        {
          "output_type": "stream",
          "name": "stdout",
          "text": [
            "6\n",
            "1\n"
          ]
        }
      ]
    },
    {
      "cell_type": "markdown",
      "source": [
        "<aside>\n",
        "💡 **Question 3**\n",
        "\n",
        "****Given a set represented as a string, write a recursive code to print all subsets of it. The subsets can be printed in any order.\n",
        "\n",
        "**Example 1:**\n",
        "\n",
        "Input :  set = “abc”\n",
        "\n",
        "Output : { “”, “a”, “b”, “c”, “ab”, “ac”, “bc”, “abc”}\n",
        "\n",
        "**Example 2:**\n",
        "\n",
        "Input : set = “abcd”\n",
        "\n",
        "Output : { “”, “a” ,”ab” ,”abc” ,”abcd”, “abd” ,”ac” ,”acd”, “ad” ,”b”, “bc” ,”bcd” ,”bd” ,”c” ,”cd” ,”d” }\n",
        "\n",
        "</aside>"
      ],
      "metadata": {
        "id": "HjSsIK19YRab"
      }
    },
    {
      "cell_type": "code",
      "source": [
        "def print_subsets(set_str):\n",
        "  subsets = []\n",
        "  generate_subsets(set_str, '', subsets)\n",
        "  for subset in subsets:\n",
        "    print(subset)\n",
        "\n",
        "def generate_subsets(set_str, current_set, subsets):\n",
        "  if not set_str:\n",
        "    subsets.append(current_set)\n",
        "    return\n",
        "    \n",
        "  generate_subsets(set_str[1:], current_set, subsets)  \n",
        "  generate_subsets(set_str[1:], current_set + set_str[0], subsets)  \n",
        "\n",
        "set_str = \"abc\"\n",
        "print_subsets(set_str)\n"
      ],
      "metadata": {
        "colab": {
          "base_uri": "https://localhost:8080/"
        },
        "id": "OKnq19AwYVmZ",
        "outputId": "5543e64a-c1fa-4f2c-aa0d-e232f4e89e70"
      },
      "execution_count": 56,
      "outputs": [
        {
          "output_type": "stream",
          "name": "stdout",
          "text": [
            "\n",
            "c\n",
            "b\n",
            "bc\n",
            "a\n",
            "ac\n",
            "ab\n",
            "abc\n"
          ]
        }
      ]
    },
    {
      "cell_type": "markdown",
      "source": [
        "<aside>\n",
        "💡 **Question 4**\n",
        "\n",
        "Given a string calculate length of the string using recursion.\n",
        "\n",
        "**Examples:**\n",
        "\n",
        "\n",
        "Input : str = \"abcd\"\n",
        "Output :4\n",
        "\n",
        "Input : str = \"GEEKSFORGEEKS\"\n",
        "Output :13\n",
        "\n",
        "</aside>"
      ],
      "metadata": {
        "id": "Uvu-g43X8d-m"
      }
    },
    {
      "cell_type": "code",
      "source": [
        "def calculate_length(string):\n",
        "  if string == \"\":\n",
        "     return 0\n",
        "  return 1 + calculate_length(string[1:])\n",
        "\n",
        "\n",
        "str1 = \"abcd\"\n",
        "length1 = calculate_length(str1)\n",
        "print(\"Length of the string '\" + str1 + \"':\", length1)\n",
        "\n",
        "str2 = \"GEEKSFORGEEKS\"\n",
        "length2 = calculate_length(str2)\n",
        "print(\"Length of the string '\" + str2 + \"':\", length2)\n"
      ],
      "metadata": {
        "colab": {
          "base_uri": "https://localhost:8080/"
        },
        "id": "NjnqKm68BrzH",
        "outputId": "56ab4832-fff1-4649-9890-fb69700c42a2"
      },
      "execution_count": 57,
      "outputs": [
        {
          "output_type": "stream",
          "name": "stdout",
          "text": [
            "Length of the string 'abcd': 4\n",
            "Length of the string 'GEEKSFORGEEKS': 13\n"
          ]
        }
      ]
    },
    {
      "cell_type": "markdown",
      "source": [
        "<aside>\n",
        "💡 **Question 5**\n",
        "\n",
        "We are given a string S, we need to find count of all contiguous substrings starting and ending with same character.\n",
        "\n",
        "Input  : S = \"abcab\"\n",
        "Output : 7\n",
        "There are 15 substrings of \"abcab\"\n",
        "a, ab, abc, abca, abcab, b, bc, bca\n",
        "bcab, c, ca, cab, a, ab, b\n",
        "Out of the above substrings, there\n",
        "are 7 substrings : a, abca, b, bcab,\n",
        "c, a and b.\n",
        "\n",
        "Input  : S = \"aba\"\n",
        "Output : 4\n",
        "The substrings are a, b, a and aba\n",
        "\n",
        "</aside>"
      ],
      "metadata": {
        "id": "y49vpYEcZ-0B"
      }
    },
    {
      "cell_type": "code",
      "source": [
        "def count_contiguous_substrings_recursive(S):\n",
        "    if len(S) < 2:\n",
        "        return 0\n",
        "    count = 0\n",
        "    if S[0] == S[-1]:\n",
        "        count += 1\n",
        "    count += count_contiguous_substrings_recursive(S[1:])\n",
        "    \n",
        "    return count\n",
        "S = \"abcab\"\n",
        "print(count_contiguous_substrings_recursive(S))  \n",
        "\n",
        "S = \"aba\"\n",
        "print(count_contiguous_substrings_recursive(S))\n"
      ],
      "metadata": {
        "colab": {
          "base_uri": "https://localhost:8080/"
        },
        "id": "FsIaVY-pZ6Ea",
        "outputId": "6113651d-8499-4bf5-8024-f1acc22efea9"
      },
      "execution_count": 68,
      "outputs": [
        {
          "output_type": "stream",
          "name": "stdout",
          "text": [
            "1\n",
            "1\n"
          ]
        }
      ]
    },
    {
      "cell_type": "markdown",
      "source": [
        "<aside>\n",
        "💡 **Question 6**\n",
        "\n",
        "The [tower of Hanoi](https://en.wikipedia.org/wiki/Tower_of_Hanoi) is a famous puzzle where we have three rods and **N** disks. The objective of the puzzle is to move the entire stack to another rod. You are given the number of discs **N**. Initially, these discs are in the rod 1. You need to print all the steps of discs movement so that all the discs reach the 3rd rod. Also, you need to find the total moves.**Note:** The discs are arranged such that the **top disc is numbered 1** and the **bottom-most disc is numbered N**. Also, all the discs have **different sizes** and a bigger disc **cannot** be put on the top of a smaller disc. Refer the provided link to get a better clarity about the puzzle.\n",
        "\n",
        "</aside>"
      ],
      "metadata": {
        "id": "37HfdIvBapau"
      }
    },
    {
      "cell_type": "code",
      "source": [
        "def tower_of_hanoi(n, source, destination, auxiliary):\n",
        "  if n == 1:\n",
        "    print(f\"Move disk 1 from rod {source} to rod {destination}\")\n",
        "    return 1\n",
        "  else:\n",
        "     moves = 0\n",
        "     moves += tower_of_hanoi(n-1, source, auxiliary, destination)\n",
        "     print(f\"Move disk {n} from rod {source} to rod {destination}\")\n",
        "     moves += 1\n",
        "     moves += tower_of_hanoi(n-1, auxiliary, destination, source)\n",
        "     return moves\n",
        "  \n",
        "N = 2\n",
        "total_moves = tower_of_hanoi(N, 1, 3, 2)\n",
        "print(total_moves)\n"
      ],
      "metadata": {
        "colab": {
          "base_uri": "https://localhost:8080/"
        },
        "id": "G1DxQ00GarrD",
        "outputId": "b7c5b828-e3ea-4a70-d7d1-0f6839ab783a"
      },
      "execution_count": 60,
      "outputs": [
        {
          "output_type": "stream",
          "name": "stdout",
          "text": [
            "Move disk 1 from rod 1 to rod 2\n",
            "Move disk 2 from rod 1 to rod 3\n",
            "Move disk 1 from rod 2 to rod 3\n",
            "3\n"
          ]
        }
      ]
    },
    {
      "cell_type": "markdown",
      "source": [
        "<aside>\n",
        "💡 **Question 7**\n",
        "\n",
        "Given a string **str**, the task is to print all the permutations of **str**. A **permutation** is an arrangement of all or part of a set of objects, with regard to the order of the arrangement. For instance, the words ‘bat’ and ‘tab’ represents two distinct permutation (or arrangements) of a similar three letter word.\n",
        "\n",
        "**Examples:**\n",
        "\n",
        "> Input: str = “cd”\n",
        "> \n",
        "> \n",
        "> **Output:** cd dc\n",
        "> \n",
        "> **Input:** str = “abb”\n",
        "> \n",
        "> **Output:** abb abb bab bba bab bba\n",
        "> \n",
        "</aside>"
      ],
      "metadata": {
        "id": "tXoP1dpCbFp2"
      }
    },
    {
      "cell_type": "code",
      "source": [
        "def permute_string(string):\n",
        "    if len(string) == 1:\n",
        "        return [string]\n",
        "    permutations = []\n",
        "    for i in range(len(string)):\n",
        "        first_char = string[i]\n",
        "        remaining_chars = string[:i] + string[i+1:]\n",
        "        for perm in permute_string(remaining_chars):\n",
        "            permutations.append(first_char + perm)\n",
        "\n",
        "    return permutations\n",
        "str1 = \"cd\"\n",
        "str2 = \"abb\"\n",
        "\n",
        "print(\"Permutations of '{}' are: {}\".format(str1, permute_string(str1)))\n",
        "print(\"Permutations of '{}' are: {}\".format(str2, permute_string(str2)))\n"
      ],
      "metadata": {
        "colab": {
          "base_uri": "https://localhost:8080/"
        },
        "id": "VDhCGc93fmjh",
        "outputId": "112a4f41-7aba-4a36-e951-323f8ec3d1dd"
      },
      "execution_count": 67,
      "outputs": [
        {
          "output_type": "stream",
          "name": "stdout",
          "text": [
            "Permutations of 'cd' are: ['cd', 'dc']\n",
            "Permutations of 'abb' are: ['abb', 'abb', 'bab', 'bba', 'bab', 'bba']\n"
          ]
        }
      ]
    },
    {
      "cell_type": "markdown",
      "source": [
        "<aside>\n",
        "💡 **Question 8**\n",
        "\n",
        "Given a string, count total number of consonants in it. A consonant is an English alphabet character that is not vowel (a, e, i, o and u). Examples of constants are b, c, d, f, and g.\n",
        "\n",
        "**Examples :**\n",
        "\n",
        "Input : abc de\n",
        "Output : 3\n",
        "There are three consonants b, c and d.\n",
        "\n",
        "Input : geeksforgeeks portal\n",
        "Output : 12\n",
        "\n",
        "</aside>"
      ],
      "metadata": {
        "id": "lKf2KVEqEkXQ"
      }
    },
    {
      "cell_type": "code",
      "source": [
        "def count_consonants(string):\n",
        "  consonants=\"bcdfghjklmnpqrstvwxyzBCDFGHJKLMNPQRSTVWXYZ\"\n",
        "  if len(string)==0:\n",
        "    return 0\n",
        "  if string[0] in consonants:\n",
        "    return 1 + count_consonants(string[1:])\n",
        "  return  count_consonants(string[1:])\n",
        "                        \n",
        "string= \"abc de\"\n",
        "consonant=count_consonants(string)\n",
        "print(consonant)\n",
        "\n",
        "string= \"geeksforgeeks portal\"\n",
        "consonant=count_consonants(string)\n",
        "print(consonant)"
      ],
      "metadata": {
        "colab": {
          "base_uri": "https://localhost:8080/"
        },
        "id": "znHuK8-EExAY",
        "outputId": "0f32df07-3ba4-42bc-c119-31d74e08ee97"
      },
      "execution_count": 40,
      "outputs": [
        {
          "output_type": "stream",
          "name": "stdout",
          "text": [
            "3\n",
            "12\n"
          ]
        }
      ]
    }
  ]
}