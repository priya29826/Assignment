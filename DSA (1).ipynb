{
  "nbformat": 4,
  "nbformat_minor": 0,
  "metadata": {
    "colab": {
      "provenance": []
    },
    "kernelspec": {
      "name": "python3",
      "display_name": "Python 3"
    },
    "language_info": {
      "name": "python"
    }
  },
  "cells": [
    {
      "cell_type": "markdown",
      "source": [
        "Implement a stack using a list in Python. Include the necessary methods such as push, pop, and isEmpty."
      ],
      "metadata": {
        "id": "-zuBo-2Pcm4n"
      }
    },
    {
      "cell_type": "code",
      "source": [
        "class Stack:\n",
        "    def __init__(self):\n",
        "        self.stack = []\n",
        "\n",
        "    def push(self, item):\n",
        "        self.stack.append(item)\n",
        "\n",
        "    def pop(self):\n",
        "        if not self.isEmpty():\n",
        "            return self.stack.pop()\n",
        "\n",
        "    def isEmpty(self):\n",
        "        return len(self.stack) == 0\n",
        "\n",
        "\n",
        "# Create a new stack\n",
        "stack = Stack()\n",
        "\n",
        "# Push elements onto the stack\n",
        "stack.push(5)\n",
        "stack.push(10)\n",
        "stack.push(15)\n",
        "\n",
        "# Check if the stack is empty\n",
        "print(stack.isEmpty())\n",
        "\n",
        "# Pop elements from the stack\n",
        "print(stack.pop())\n",
        "print(stack.pop())\n",
        "print(stack.pop())\n",
        "print(stack.pop())\n",
        "\n",
        "# Check if the stack is empty again\n",
        "print(stack.isEmpty())\n"
      ],
      "metadata": {
        "colab": {
          "base_uri": "https://localhost:8080/"
        },
        "id": "XdikOLjadyUk",
        "outputId": "9f5f8c7d-bcf8-4fb3-8008-660372ecb5bb"
      },
      "execution_count": null,
      "outputs": [
        {
          "output_type": "stream",
          "name": "stdout",
          "text": [
            "False\n",
            "15\n",
            "10\n",
            "5\n",
            "None\n",
            "True\n"
          ]
        }
      ]
    },
    {
      "cell_type": "markdown",
      "source": [
        "Implement a queue using a list in Python. Include the necessary methods such as enqueue, dequeue, and isEmpty."
      ],
      "metadata": {
        "id": "yIQr9twrcnRM"
      }
    },
    {
      "cell_type": "code",
      "source": [
        "class Queue:\n",
        "    def __init__(self):\n",
        "        self.queue = []\n",
        "\n",
        "    def enqueue(self, item):\n",
        "        self.queue.append(item)\n",
        "\n",
        "    def dequeue(self):\n",
        "        if not self.isEmpty():\n",
        "            return self.queue.pop(0)\n",
        "        else:\n",
        "            raise IndexError\n",
        "\n",
        "    def isEmpty(self):\n",
        "        return not self.queue\n",
        "\n",
        "\n",
        "\n",
        "# Create a new queue\n",
        "my_queue = Queue()\n",
        "\n",
        "# Enqueue some items\n",
        "my_queue.enqueue(10)\n",
        "my_queue.enqueue(20)\n",
        "my_queue.enqueue(30)\n",
        "\n",
        "# Check if the queue is empty\n",
        "print(my_queue.isEmpty())\n",
        "\n",
        "# Dequeue items\n",
        "print(my_queue.dequeue())\n",
        "print(my_queue.dequeue())\n",
        "\n",
        "# Check if the queue is empty\n",
        "print(my_queue.isEmpty())\n",
        "\n",
        "# Dequeue the last item\n",
        "print(my_queue.dequeue())\n",
        "\n",
        "# Check if the queue is empty\n",
        "print(my_queue.isEmpty())\n"
      ],
      "metadata": {
        "colab": {
          "base_uri": "https://localhost:8080/"
        },
        "id": "-bhn9s--ck1f",
        "outputId": "9f826ea9-f62a-4216-b58d-20c1f07f1d70"
      },
      "execution_count": 1,
      "outputs": [
        {
          "output_type": "stream",
          "name": "stdout",
          "text": [
            "False\n",
            "10\n",
            "20\n",
            "False\n",
            "30\n",
            "True\n"
          ]
        }
      ]
    },
    {
      "cell_type": "code",
      "source": [],
      "metadata": {
        "id": "T8SzQYEDdbMO"
      },
      "execution_count": null,
      "outputs": []
    }
  ]
}